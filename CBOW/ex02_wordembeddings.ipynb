{
  "nbformat": 4,
  "nbformat_minor": 0,
  "metadata": {
    "kernelspec": {
      "display_name": "Python 3",
      "name": "python3"
    },
    "language_info": {
      "codemirror_mode": {
        "name": "ipython",
        "version": 3
      },
      "file_extension": ".py",
      "mimetype": "text/x-python",
      "name": "python",
      "nbconvert_exporter": "python",
      "pygments_lexer": "ipython3",
      "version": "3.6.6"
    },
    "colab": {
      "provenance": [],
      "gpuType": "T4"
    },
    "accelerator": "GPU"
  },
  "cells": [
    {
      "cell_type": "code",
      "metadata": {
        "id": "Wvrt-REqt5ez"
      },
      "source": [
        "%matplotlib inline"
      ],
      "execution_count": null,
      "outputs": []
    },
    {
      "cell_type": "markdown",
      "metadata": {
        "id": "rMv2k-eFt5e5"
      },
      "source": [
        "Source: [https://pytorch.org/tutorials/beginner/nlp/word_embeddings_tutorial.html#exercise-computing-word-embeddings-continuous-bag-of-words](https://pytorch.org/tutorials/beginner/nlp/word_embeddings_tutorial.html#exercise-computing-word-embeddings-continuous-bag-of-words)\n",
        "\n",
        "# Word Embeddings: Encoding Lexical Semantics\n",
        "\n",
        "Word embeddings are dense vectors of real numbers, one per word in your\n",
        "vocabulary. In NLP, it is almost always the case that your features are\n",
        "words! But how should you represent a word in a computer? You could\n",
        "store its ascii character representation, but that only tells you what\n",
        "the word *is*, it doesn't say much about what it *means* (you might be\n",
        "able to derive its part of speech from its affixes, or properties from\n",
        "its capitalization, but not much). Even more, in what sense could you\n",
        "combine these representations? We often want dense outputs from our\n",
        "neural networks, where the inputs are $|V|$ dimensional, where\n",
        "$V$ is our vocabulary, but often the outputs are only a few\n",
        "dimensional (if we are only predicting a handful of labels, for\n",
        "instance). How do we get from a massive dimensional space to a smaller\n",
        "dimensional space?\n",
        "\n",
        "How about instead of ascii representations, we use a one-hot encoding?\n",
        "That is, we represent the word $w$ by\n",
        "\n",
        "\\begin{align}\\overbrace{\\left[ 0, 0, \\dots, 1, \\dots, 0, 0 \\right]}^\\text{|V| elements}\\end{align}\n",
        "\n",
        "where the 1 is in a location unique to $w$. Any other word will\n",
        "have a 1 in some other location, and a 0 everywhere else.\n",
        "\n",
        "There is an enormous drawback to this representation, besides just how\n",
        "huge it is. It basically treats all words as independent entities with\n",
        "no relation to each other. What we really want is some notion of\n",
        "*similarity* between words. Why? Let's see an example.\n",
        "\n",
        "Suppose we are building a language model. Suppose we have seen the\n",
        "sentences\n",
        "\n",
        "* The mathematician ran to the store.\n",
        "* The physicist ran to the store.\n",
        "* The mathematician solved the open problem.\n",
        "\n",
        "in our training data. Now suppose we get a new sentence never before\n",
        "seen in our training data:\n",
        "\n",
        "* The physicist solved the open problem.\n",
        "\n",
        "Our language model might do OK on this sentence, but wouldn't it be much\n",
        "better if we could use the following two facts:\n",
        "\n",
        "* We have seen  mathematician and physicist in the same role in a sentence. Somehow they\n",
        "  have a semantic relation.\n",
        "* We have seen mathematician in the same role  in this new unseen sentence\n",
        "  as we are now seeing physicist.\n",
        "\n",
        "and then infer that physicist is actually a good fit in the new unseen\n",
        "sentence? This is what we mean by a notion of similarity: we mean\n",
        "*semantic similarity*, not simply having similar orthographic\n",
        "representations. It is a technique to combat the sparsity of linguistic\n",
        "data, by connecting the dots between what we have seen and what we\n",
        "haven't. This example of course relies on a fundamental linguistic\n",
        "assumption: that words appearing in similar contexts are related to each\n",
        "other semantically. This is called the `distributional\n",
        "hypothesis <https://en.wikipedia.org/wiki/Distributional_semantics>`__.\n",
        "\n",
        "\n",
        "# Getting Dense Word Embeddings\n",
        "\n",
        "How can we solve this problem? That is, how could we actually encode\n",
        "semantic similarity in words? Maybe we think up some semantic\n",
        "attributes. For example, we see that both mathematicians and physicists\n",
        "can run, so maybe we give these words a high score for the \"is able to\n",
        "run\" semantic attribute. Think of some other attributes, and imagine\n",
        "what you might score some common words on those attributes.\n",
        "\n",
        "If each attribute is a dimension, then we might give each word a vector,\n",
        "like this:\n",
        "\n",
        "\\begin{align}q_\\text{mathematician} = \\left[ \\overbrace{2.3}^\\text{can run},\n",
        "   \\overbrace{9.4}^\\text{likes coffee}, \\overbrace{-5.5}^\\text{majored in Physics}, \\dots \\right]\\end{align}\n",
        "\n",
        "\\begin{align}q_\\text{physicist} = \\left[ \\overbrace{2.5}^\\text{can run},\n",
        "   \\overbrace{9.1}^\\text{likes coffee}, \\overbrace{6.4}^\\text{majored in Physics}, \\dots \\right]\\end{align}\n",
        "\n",
        "Then we can get a measure of similarity between these words by doing:\n",
        "\n",
        "\\begin{align}\\text{Similarity}(\\text{physicist}, \\text{mathematician}) = q_\\text{physicist} \\cdot q_\\text{mathematician}\\end{align}\n",
        "\n",
        "Although it is more common to normalize by the lengths:\n",
        "\n",
        "\\begin{align}\\text{Similarity}(\\text{physicist}, \\text{mathematician}) = \\frac{q_\\text{physicist} \\cdot q_\\text{mathematician}}\n",
        "   {\\| q_\\text{\\physicist} \\| \\| q_\\text{mathematician} \\|} = \\cos (\\phi)\\end{align}\n",
        "\n",
        "Where $\\phi$ is the angle between the two vectors. That way,\n",
        "extremely similar words (words whose embeddings point in the same\n",
        "direction) will have similarity 1. Extremely dissimilar words should\n",
        "have similarity -1.\n",
        "\n",
        "\n",
        "You can think of the sparse one-hot vectors from the beginning of this\n",
        "section as a special case of these new vectors we have defined, where\n",
        "each word basically has similarity 0, and we gave each word some unique\n",
        "semantic attribute. These new vectors are *dense*, which is to say their\n",
        "entries are (typically) non-zero.\n",
        "\n",
        "But these new vectors are a big pain: you could think of thousands of\n",
        "different semantic attributes that might be relevant to determining\n",
        "similarity, and how on earth would you set the values of the different\n",
        "attributes? Central to the idea of deep learning is that the neural\n",
        "network learns representations of the features, rather than requiring\n",
        "the programmer to design them herself. So why not just let the word\n",
        "embeddings be parameters in our model, and then be updated during\n",
        "training? This is exactly what we will do. We will have some *latent\n",
        "semantic attributes* that the network can, in principle, learn. Note\n",
        "that the word embeddings will probably not be interpretable. That is,\n",
        "although with our hand-crafted vectors above we can see that\n",
        "mathematicians and physicists are similar in that they both like coffee,\n",
        "if we allow a neural network to learn the embeddings and see that both\n",
        "mathematicians and physicists have a large value in the second\n",
        "dimension, it is not clear what that means. They are similar in some\n",
        "latent semantic dimension, but this probably has no interpretation to\n",
        "us.\n",
        "\n",
        "\n",
        "In summary, **word embeddings are a representation of the *semantics* of\n",
        "a word, efficiently encoding semantic information that might be relevant\n",
        "to the task at hand**. You can embed other things too: part of speech\n",
        "tags, parse trees, anything! The idea of feature embeddings is central\n",
        "to the field.\n",
        "\n",
        "\n",
        "# Word Embeddings in Pytorch\n",
        "\n",
        "Before we get to a worked example and an exercise, a few quick notes\n",
        "about how to use embeddings in Pytorch and in deep learning programming\n",
        "in general. Similar to how we defined a unique index for each word when\n",
        "making one-hot vectors, we also need to define an index for each word\n",
        "when using embeddings. These will be keys into a lookup table. That is,\n",
        "embeddings are stored as a $|V| \\times D$ matrix, where $D$\n",
        "is the dimensionality of the embeddings, such that the word assigned\n",
        "index $i$ has its embedding stored in the $i$'th row of the\n",
        "matrix. In all of my code, the mapping from words to indices is a\n",
        "dictionary named word\\_to\\_ix.\n",
        "\n",
        "The module that allows you to use embeddings is torch.nn.Embedding,\n",
        "which takes two arguments: the vocabulary size, and the dimensionality\n",
        "of the embeddings.\n",
        "\n",
        "To index into this table, you must use torch.LongTensor (since the\n",
        "indices are integers, not floats).\n",
        "\n",
        "\n"
      ]
    },
    {
      "cell_type": "code",
      "metadata": {
        "id": "ELBc1ntbt5e8",
        "colab": {
          "base_uri": "https://localhost:8080/"
        },
        "outputId": "c9119b31-078a-47b2-8a4f-dc87fc0c417e"
      },
      "source": [
        "# Author: Robert Guthrie\n",
        "\n",
        "import torch\n",
        "import torch.nn as nn\n",
        "import torch.nn.functional as F\n",
        "import torch.optim as optim\n",
        "\n",
        "torch.manual_seed(1)"
      ],
      "execution_count": null,
      "outputs": [
        {
          "output_type": "execute_result",
          "data": {
            "text/plain": [
              "<torch._C.Generator at 0x7e386c65bd70>"
            ]
          },
          "metadata": {},
          "execution_count": 2
        }
      ]
    },
    {
      "cell_type": "code",
      "metadata": {
        "id": "qcvzqik4t5e9",
        "colab": {
          "base_uri": "https://localhost:8080/"
        },
        "outputId": "76a1c17e-8879-474a-e830-200c40add6b7"
      },
      "source": [
        "word_to_ix = {\"hello\": 0, \"world\": 1}\n",
        "embeds = nn.Embedding(2, 5)  # 2 words in vocab, 5 dimensional embeddings\n",
        "lookup_tensor = torch.tensor([word_to_ix[\"hello\"]], dtype=torch.long)\n",
        "hello_embed = embeds(lookup_tensor)\n",
        "print(hello_embed)"
      ],
      "execution_count": null,
      "outputs": [
        {
          "output_type": "stream",
          "name": "stdout",
          "text": [
            "tensor([[ 0.6614,  0.2669,  0.0617,  0.6213, -0.4519]],\n",
            "       grad_fn=<EmbeddingBackward0>)\n"
          ]
        }
      ]
    },
    {
      "cell_type": "markdown",
      "metadata": {
        "id": "es54fI4yt5e-"
      },
      "source": [
        "# An Example: N-Gram Language Modeling\n",
        "\n",
        "Recall that in an n-gram language model, given a sequence of words\n",
        "$w$, we want to compute\n",
        "\n",
        "\\begin{align}P(w_i | w_{i-1}, w_{i-2}, \\dots, w_{i-n+1} )\\end{align}\n",
        "\n",
        "Where $w_i$ is the ith word of the sequence.\n",
        "\n",
        "In this example, we will compute the loss function on some training\n",
        "examples and update the parameters with backpropagation.\n",
        "\n",
        "\n"
      ]
    },
    {
      "cell_type": "code",
      "metadata": {
        "id": "WKEd73J5t5e_",
        "colab": {
          "base_uri": "https://localhost:8080/"
        },
        "outputId": "5cc41053-dcf9-4752-d8ad-17cde1b48901"
      },
      "source": [
        "CONTEXT_SIZE = 2\n",
        "EMBEDDING_DIM = 10\n",
        "# We will use Shakespeare Sonnet 2\n",
        "test_sentence = \"\"\"When forty winters shall besiege thy brow,\n",
        "And dig deep trenches in thy beauty's field,\n",
        "Thy youth's proud livery so gazed on now,\n",
        "Will be a totter'd weed of small worth held:\n",
        "Then being asked, where all thy beauty lies,\n",
        "Where all the treasure of thy lusty days;\n",
        "To say, within thine own deep sunken eyes,\n",
        "Were an all-eating shame, and thriftless praise.\n",
        "How much more praise deserv'd thy beauty's use,\n",
        "If thou couldst answer 'This fair child of mine\n",
        "Shall sum my count, and make my old excuse,'\n",
        "Proving his beauty by succession thine!\n",
        "This were to be new made when thou art old,\n",
        "And see thy blood warm when thou feel'st it cold.\"\"\".split()\n",
        "# we should tokenize the input, but we will ignore that for now\n",
        "# build a list of tuples.  Each tuple is ([ word_i-2, word_i-1 ], target word)\n",
        "trigrams = [([test_sentence[i], test_sentence[i + 1]], test_sentence[i + 2])\n",
        "            for i in range(len(test_sentence) - 2)]\n",
        "# print the first 3, just so you can see what they look like\n",
        "print(trigrams[:3])\n",
        "\n",
        "vocab = set(test_sentence)\n",
        "word_to_ix = {word: i for i, word in enumerate(vocab)}\n",
        "\n",
        "\n",
        "class NGramLanguageModeler(nn.Module):\n",
        "\n",
        "    def __init__(self, vocab_size, embedding_dim, context_size):\n",
        "        super(NGramLanguageModeler, self).__init__()\n",
        "        self.embeddings = nn.Embedding(vocab_size, embedding_dim)\n",
        "        self.linear1 = nn.Linear(context_size * embedding_dim, 128)\n",
        "        self.linear2 = nn.Linear(128, vocab_size)\n",
        "\n",
        "    def forward(self, inputs):\n",
        "        embeds = self.embeddings(inputs).view((1, -1))\n",
        "        out = F.relu(self.linear1(embeds))\n",
        "        out = self.linear2(out)\n",
        "        log_probs = F.log_softmax(out, dim=1)\n",
        "        return log_probs\n",
        "\n",
        "\n",
        "losses = []\n",
        "loss_function = nn.NLLLoss()\n",
        "model = NGramLanguageModeler(len(vocab), EMBEDDING_DIM, CONTEXT_SIZE)\n",
        "optimizer = optim.SGD(model.parameters(), lr=0.001)\n",
        "\n",
        "for epoch in range(10):\n",
        "    total_loss = 0\n",
        "    for context, target in trigrams:\n",
        "\n",
        "        # Step 1. Prepare the inputs to be passed to the model (i.e, turn the words\n",
        "        # into integer indices and wrap them in tensors)\n",
        "        context_idxs = torch.tensor([word_to_ix[w] for w in context], dtype=torch.long)\n",
        "\n",
        "        # Step 2. Recall that torch *accumulates* gradients. Before passing in a\n",
        "        # new instance, you need to zero out the gradients from the old\n",
        "        # instance\n",
        "        model.zero_grad()\n",
        "\n",
        "        # Step 3. Run the forward pass, getting log probabilities over next\n",
        "        # words\n",
        "        log_probs = model(context_idxs)\n",
        "\n",
        "        # Step 4. Compute your loss function. (Again, Torch wants the target\n",
        "        # word wrapped in a tensor)\n",
        "        loss = loss_function(log_probs, torch.tensor([word_to_ix[target]], dtype=torch.long))\n",
        "\n",
        "        # Step 5. Do the backward pass and update the gradient\n",
        "        loss.backward()\n",
        "        optimizer.step()\n",
        "\n",
        "        # Get the Python number from a 1-element Tensor by calling tensor.item()\n",
        "        total_loss += loss.item()\n",
        "    losses.append(total_loss)\n",
        "print(losses)  # The loss decreased every iteration over the training data!"
      ],
      "execution_count": null,
      "outputs": [
        {
          "output_type": "stream",
          "name": "stdout",
          "text": [
            "[(['When', 'forty'], 'winters'), (['forty', 'winters'], 'shall'), (['winters', 'shall'], 'besiege')]\n",
            "[520.4616117477417, 517.8069741725922, 515.1721034049988, 512.5561964511871, 509.95678639411926, 507.3753750324249, 504.81008219718933, 502.2583179473877, 499.72035217285156, 497.1941342353821]\n"
          ]
        }
      ]
    },
    {
      "cell_type": "markdown",
      "metadata": {
        "id": "lO-_4P3mt5e_"
      },
      "source": [
        "# Exercise: Computing Word Embeddings: Continuous Bag-of-Words\n",
        "\n",
        "The Continuous Bag-of-Words model (CBOW) is frequently used in NLP deep\n",
        "learning. It is a model that tries to predict words given the context of\n",
        "a few words before and a few words after the target word. This is\n",
        "distinct from language modeling, since CBOW is not sequential and does\n",
        "not have to be probabilistic. Typcially, CBOW is used to quickly train\n",
        "word embeddings, and these embeddings are used to initialize the\n",
        "embeddings of some more complicated model. Usually, this is referred to\n",
        "as *pretraining embeddings*. It almost always helps performance a couple\n",
        "of percent.\n",
        "\n",
        "The CBOW model is as follows. Given a target word $w_i$ and an\n",
        "$N$ context window on each side, $w_{i-1}, \\dots, w_{i-N}$\n",
        "and $w_{i+1}, \\dots, w_{i+N}$, referring to all context words\n",
        "collectively as $C$, CBOW tries to minimize\n",
        "\n",
        "\\begin{align}-\\log p(w_i | C) = -\\log \\text{Softmax}(A(\\sum_{w \\in C} q_w) + b)\\end{align}\n",
        "\n",
        "where $q_w$ is the embedding for word $w$.\n",
        "\n",
        "Implement this model in Pytorch by filling in the class below. Some\n",
        "tips:\n",
        "\n",
        "* Think about which parameters you need to define.\n",
        "* Make sure you know what shape each operation expects. Use .view() if you need to\n",
        "  reshape.\n",
        "\n",
        "\n"
      ]
    },
    {
      "cell_type": "code",
      "source": [
        "import torch\n",
        "import torch.nn as nn\n",
        "import torch.nn.functional as F\n",
        "import torch.optim as optim\n",
        "from torch.utils.data import Dataset, DataLoader\n",
        "import pandas as pd\n",
        "import re\n",
        "import nltk\n",
        "from nltk.tokenize import sent_tokenize, word_tokenize\n",
        "from nltk.corpus import stopwords\n",
        "import string"
      ],
      "metadata": {
        "id": "6d4HPuLeozzl"
      },
      "execution_count": null,
      "outputs": []
    },
    {
      "cell_type": "code",
      "metadata": {
        "id": "gXbt-utMt5fA",
        "colab": {
          "base_uri": "https://localhost:8080/"
        },
        "outputId": "5c601dd7-869c-43d6-dbc7-aefabbd22202"
      },
      "source": [
        "# First finish the exercise as follows:\n",
        "\n",
        "device = torch.device(\"cuda\" if torch.cuda.is_available() else \"cpu\")\n",
        "\n",
        "CONTEXT_SIZE = 2  # 2 words to the left, 2 to the right\n",
        "raw_text = \"\"\"We are about to study the idea of a computational process.\n",
        "Computational processes are abstract beings that inhabit computers.\n",
        "As they evolve, processes manipulate other abstract things called data.\n",
        "The evolution of a process is directed by a pattern of rules\n",
        "called a program. People create programs to direct processes. In effect,\n",
        "we conjure the spirits of the computer with our spells.\"\"\".split()\n",
        "\n",
        "# By deriving a set from `raw_text`, we deduplicate the array\n",
        "vocab = set(raw_text)\n",
        "vocab_size = len(vocab)\n",
        "\n",
        "word_to_ix = {word: i for i, word in enumerate(vocab)}\n",
        "data = []\n",
        "for i in range(2, len(raw_text) - 2):\n",
        "    context = [raw_text[i - 2], raw_text[i - 1],\n",
        "               raw_text[i + 1], raw_text[i + 2]]\n",
        "    target = raw_text[i]\n",
        "    data.append((context, target))\n",
        "print(data[:5])\n",
        "\n",
        "\n",
        "class CBOW(nn.Module):\n",
        "    def __init__(self, vocab_size, embedding_dim):\n",
        "        super(CBOW, self).__init__()\n",
        "        self.embeddings = nn.Embedding(vocab_size, embedding_dim)\n",
        "        self.linear1 = nn.Linear(embedding_dim, 128)\n",
        "        self.linear2 = nn.Linear(128, vocab_size)\n",
        "\n",
        "    def forward(self, inputs):\n",
        "        embeds = torch.sum(self.embeddings(inputs), dim=0).view((1, -1))\n",
        "        out = F.relu(self.linear1(embeds))\n",
        "        out = self.linear2(out)\n",
        "        log_probs = F.log_softmax(out, dim=1)\n",
        "        return log_probs\n",
        "\n",
        "# create your model and train.  here are some functions to help you make\n",
        "# the data ready for use by your module\n",
        "\n",
        "def make_context_vector(context, word_to_ix):\n",
        "    idxs = [word_to_ix[w] for w in context]\n",
        "    return torch.tensor(idxs, dtype=torch.long)\n",
        "\n",
        "\n",
        "make_context_vector(data[0][0], word_to_ix)  # example\n",
        "\n",
        "# Training the model\n",
        "losses = []\n",
        "loss_function = nn.NLLLoss()\n",
        "model = CBOW(vocab_size, embedding_dim=50).to(device)\n",
        "optimizer = optim.SGD(model.parameters(), lr=0.001)\n",
        "\n",
        "for epoch in range(12):\n",
        "    total_loss = 0.0\n",
        "    for context, target in data:\n",
        "        # Convert the words into integer indices and wrap them in tensors\n",
        "        context_idxs = make_context_vector(context, word_to_ix).to(device)\n",
        "        target_idxs = torch.tensor([word_to_ix[target]], dtype=torch.long).to(device)\n",
        "\n",
        "        model.zero_grad()\n",
        "\n",
        "        # Run the forward pass\n",
        "        log_probs = model(context_idxs)\n",
        "        # Compute loss function\n",
        "        loss = loss_function(log_probs, target_idxs)\n",
        "\n",
        "        # Do the backward pass and update the gradient\n",
        "        loss.backward()\n",
        "        optimizer.step()\n",
        "        total_loss += loss.item()\n",
        "    print(f'Epoch {epoch+1}, Loss: {total_loss}')\n",
        "    losses.append(total_loss)"
      ],
      "execution_count": null,
      "outputs": [
        {
          "output_type": "stream",
          "name": "stdout",
          "text": [
            "[(['We', 'are', 'to', 'study'], 'about'), (['are', 'about', 'study', 'the'], 'to'), (['about', 'to', 'the', 'idea'], 'study'), (['to', 'study', 'idea', 'of'], 'the'), (['study', 'the', 'of', 'a'], 'idea')]\n",
            "Epoch 1, Loss: 231.3255910873413\n",
            "Epoch 2, Loss: 225.67047357559204\n",
            "Epoch 3, Loss: 220.1729793548584\n",
            "Epoch 4, Loss: 214.811208486557\n",
            "Epoch 5, Loss: 209.58325743675232\n",
            "Epoch 6, Loss: 204.4802279472351\n",
            "Epoch 7, Loss: 199.4764038324356\n",
            "Epoch 8, Loss: 194.55326175689697\n",
            "Epoch 9, Loss: 189.7092010974884\n",
            "Epoch 10, Loss: 184.94836127758026\n",
            "Epoch 11, Loss: 180.2514146566391\n",
            "Epoch 12, Loss: 175.6242400407791\n"
          ]
        }
      ]
    },
    {
      "cell_type": "markdown",
      "source": [
        "**Part 1 - Train your CBOW embeddings for both datasets**"
      ],
      "metadata": {
        "id": "7p-Zk4ZhVPkt"
      }
    },
    {
      "cell_type": "code",
      "source": [
        "# Download the dataset\n",
        "!gdown 1foE1JuZJeu5E_4qVge9kExzhvF32teuF # tripadvisor_hotel_reviews_reduced.csv\n",
        "!gdown 13IWXrTjGTrfCd9l7dScZVO8ZvMicPU75 # scifi_reduced.txt"
      ],
      "metadata": {
        "colab": {
          "base_uri": "https://localhost:8080/"
        },
        "id": "MGWJiXzpp9a4",
        "outputId": "06a6fef9-1b68-417e-f8b8-dcb2c708deda"
      },
      "execution_count": null,
      "outputs": [
        {
          "output_type": "stream",
          "name": "stdout",
          "text": [
            "Downloading...\n",
            "From: https://drive.google.com/uc?id=1foE1JuZJeu5E_4qVge9kExzhvF32teuF\n",
            "To: /content/tripadvisor_hotel_reviews_reduced.csv\n",
            "100% 7.36M/7.36M [00:00<00:00, 93.4MB/s]\n",
            "Downloading...\n",
            "From: https://drive.google.com/uc?id=13IWXrTjGTrfCd9l7dScZVO8ZvMicPU75\n",
            "To: /content/scifi_reduced.txt\n",
            "100% 43.1M/43.1M [00:00<00:00, 151MB/s]\n"
          ]
        }
      ]
    },
    {
      "cell_type": "code",
      "source": [
        "# Configuration\n",
        "class Config:\n",
        "    BATCH_SIZE = 64\n",
        "    EMBEDDING_DIM = 50\n",
        "    LEARNING_RATE = 0.01\n",
        "    EPOCHS = {'model_1': 12, 'model_2': 12, 'model_3': 3}\n",
        "\n",
        "\n",
        "# Preprocessing and Dataset Preparation\n",
        "nltk.download('punkt')\n",
        "nltk.download('stopwords')\n",
        "\n",
        "def preprocess_text(text, remove_stopwords=True):\n",
        "    # Tokenize, remove punctuation and stopwords, handle casing\n",
        "    words = word_tokenize(text)\n",
        "    words = [word.lower() for word in words if word.isalpha()]  # Lowercasing and removing punctuation\n",
        "    if remove_stopwords:\n",
        "      words = [word for word in words if word not in stopwords.words('english')]\n",
        "    return ' '.join(words)\n",
        "\n",
        "\n",
        "def process_chunk(chunk, buffer=''):\n",
        "    \"\"\"\n",
        "    Process a chunk of text, returning the leftover text to be processed.\n",
        "    \"\"\"\n",
        "    text = buffer + chunk\n",
        "    sentences = sent_tokenize(text)\n",
        "\n",
        "    # The last sentence might be incomplete; keep it in the buffer\n",
        "    buffer = sentences.pop() if sentences and not text.endswith(sentences[-1]) else ''\n",
        "\n",
        "    processed_sentences = [preprocess_text(sentence) for sentence in sentences]\n",
        "\n",
        "    return processed_sentences, buffer\n",
        "\n",
        "\n",
        "def prepare_dataset_and_vocab_hotel(filename, preprocess_func, context_size):\n",
        "    # Create a vocabulary\n",
        "    vocab = set()\n",
        "    context_target_pairs = []\n",
        "    all_tokens = []\n",
        "\n",
        "    df = pd.read_csv(filename)\n",
        "    for text in df['Review']:\n",
        "        processed_text = preprocess_func(text)\n",
        "        words = processed_text.split()\n",
        "        all_tokens.extend(words)\n",
        "        vocab.update(words)\n",
        "\n",
        "        for i in range(context_size, len(words) - context_size):\n",
        "            context = words[i - context_size:i] + words[i + 1:i + context_size + 1]\n",
        "            target = words[i]\n",
        "            context_target_pairs.append((context, target))\n",
        "\n",
        "    word_to_ix = {word: i for i, word in enumerate(vocab)}\n",
        "    vocab_size = len(vocab)\n",
        "\n",
        "    return vocab_size, word_to_ix, context_target_pairs, all_tokens\n",
        "\n",
        "def prepare_dataset_and_vocab_scifi(filename, context_size, chunk_size=1024):\n",
        "    \"\"\"\n",
        "    Process a large text file without loading it entirely into memory.\n",
        "    \"\"\"\n",
        "    # Create a vocabulary\n",
        "    vocab = set()\n",
        "    context_target_pairs = []\n",
        "    all_tokens = []\n",
        "\n",
        "    buffer = ''\n",
        "    with open(filename, 'r') as file:\n",
        "        while True:\n",
        "            chunk = file.read(chunk_size)\n",
        "            if not chunk:\n",
        "                break\n",
        "            processed_sentences, buffer = process_chunk(chunk, buffer)\n",
        "\n",
        "            for sentence in processed_sentences:\n",
        "              words = sentence.split()\n",
        "              all_tokens.extend(words)\n",
        "              vocab.update(words)\n",
        "\n",
        "              # Create context-target pairs\n",
        "              for i in range(context_size, len(words) - context_size):\n",
        "                    context = words[i - context_size:i] + words[i + 1:i + context_size + 1]\n",
        "                    target = words[i]\n",
        "                    context_target_pairs.append((context, target))\n",
        "\n",
        "    # Process any remaining text in the buffer\n",
        "    if buffer:\n",
        "        processed_sentences, _ = process_chunk('', buffer)\n",
        "        for sentence in processed_sentences:\n",
        "            words = sentence.split()\n",
        "            all_tokens.extend(words)\n",
        "            vocab.update(words)\n",
        "\n",
        "            # Create context-target pairs\n",
        "            for i in range(context_size, len(words) - context_size):\n",
        "                context = words[i - context_size:i] + words[i + 1:i + context_size + 1]\n",
        "                target = words[i]\n",
        "                context_target_pairs.append((context, target))\n",
        "\n",
        "    word_to_ix = {word: i for i, word in enumerate(vocab)}\n",
        "    vocab_size = len(vocab)\n",
        "\n",
        "    return vocab_size, word_to_ix, context_target_pairs, all_tokens\n"
      ],
      "metadata": {
        "id": "UE4wTz2vSB2o",
        "colab": {
          "base_uri": "https://localhost:8080/"
        },
        "outputId": "98555e8b-1ff2-4852-a476-d65f488c6862"
      },
      "execution_count": null,
      "outputs": [
        {
          "output_type": "stream",
          "name": "stderr",
          "text": [
            "[nltk_data] Downloading package punkt to /root/nltk_data...\n",
            "[nltk_data]   Package punkt is already up-to-date!\n",
            "[nltk_data] Downloading package stopwords to /root/nltk_data...\n",
            "[nltk_data]   Package stopwords is already up-to-date!\n"
          ]
        }
      ]
    },
    {
      "cell_type": "code",
      "source": [
        "# Define the CBOW model\n",
        "class CBOW(nn.Module):\n",
        "    def __init__(self, vocab_size, embedding_dim):\n",
        "        super(CBOW, self).__init__()\n",
        "        self.embeddings = nn.Embedding(vocab_size, embedding_dim)\n",
        "        self.linear1 = nn.Linear(embedding_dim, 128)\n",
        "        self.linear2 = nn.Linear(128, vocab_size)\n",
        "\n",
        "    def forward(self, inputs):\n",
        "        embeds = torch.sum(self.embeddings(inputs), dim=1)  # batch processing\n",
        "        out = F.relu(self.linear1(embeds))\n",
        "        out = self.linear2(out)\n",
        "        log_probs = F.log_softmax(out, dim=1)\n",
        "        return log_probs\n",
        "\n",
        "\n",
        "# Define the dataset Class\n",
        "class ContextTargetDataset(Dataset):\n",
        "    def __init__(self, context_target_pairs, word_to_ix):\n",
        "        self.context_target_pairs = context_target_pairs\n",
        "        self.word_to_ix = word_to_ix\n",
        "\n",
        "    def __len__(self):\n",
        "        return len(self.context_target_pairs)\n",
        "\n",
        "    def __getitem__(self, idx):\n",
        "        context, target = self.context_target_pairs[idx]\n",
        "        context_idxs = [self.word_to_ix[w] for w in context]\n",
        "        target_idx = self.word_to_ix[target]\n",
        "        return torch.tensor(context_idxs, dtype=torch.long), torch.tensor([target_idx], dtype=torch.long)"
      ],
      "metadata": {
        "id": "CbNV9L68SK8A"
      },
      "execution_count": null,
      "outputs": []
    },
    {
      "cell_type": "code",
      "source": [
        "# Define training Function\n",
        "def train_model(vocab_size, word_to_ix, context_target_pairs, model_name, device):\n",
        "    dataset = ContextTargetDataset(context_target_pairs, word_to_ix)\n",
        "    dataloader = DataLoader(dataset, batch_size=Config.BATCH_SIZE, shuffle=True)\n",
        "\n",
        "    model = CBOW(vocab_size, Config.EMBEDDING_DIM).to(device)\n",
        "    losses = []\n",
        "    loss_function = nn.NLLLoss()\n",
        "    optimizer = optim.SGD(model.parameters(), lr=Config.LEARNING_RATE)\n",
        "\n",
        "    for epoch in range(Config.EPOCHS[model_name]):\n",
        "        total_loss = 0.0\n",
        "        for context, target in dataloader:\n",
        "            # Convert the words into integer indices and wrap them in tensors\n",
        "            context, target = context.to(device), target.to(device)\n",
        "\n",
        "            model.zero_grad()\n",
        "\n",
        "            # Run the forward pass\n",
        "            log_probs = model(context)\n",
        "            # Compute loss function\n",
        "            loss = loss_function(log_probs, target.squeeze(1))\n",
        "\n",
        "            # Do the backward pass and update the gradient\n",
        "            loss.backward()\n",
        "            optimizer.step()\n",
        "            total_loss += loss.item()\n",
        "\n",
        "        epoch_loss = total_loss / len(dataloader)\n",
        "        print(f'Epoch {epoch + 1}, Average Loss per Batch: {epoch_loss}')\n",
        "        losses.append(total_loss)\n",
        "\n",
        "    # Save the model's state_dict\n",
        "    torch.save(model.state_dict(), f\"{model_name}.pth\")"
      ],
      "metadata": {
        "id": "oBWAV4VzWjs4"
      },
      "execution_count": null,
      "outputs": []
    },
    {
      "cell_type": "code",
      "source": [
        "# GPU device\n",
        "device = torch.device('cuda' if torch.cuda.is_available() else 'cpu')"
      ],
      "metadata": {
        "id": "Z7YOlbaJmDaX"
      },
      "execution_count": null,
      "outputs": []
    },
    {
      "cell_type": "code",
      "source": [
        "# Model 1: CBOW2 with a context width of 2 (in both directions) for the Hotel Reviews dataset\n",
        "vocab_size_1, word_to_ix_1, pairs_1, all_tokens_hotel = prepare_dataset_and_vocab_hotel('tripadvisor_hotel_reviews_reduced.csv', preprocess_text, 2)\n",
        "train_model(vocab_size_1, word_to_ix_1, pairs_1, 'model_1', device)"
      ],
      "metadata": {
        "colab": {
          "base_uri": "https://localhost:8080/"
        },
        "id": "2sdQtJI_WDEf",
        "outputId": "334b12ae-be5f-4833-ff3b-75388b6214ec"
      },
      "execution_count": null,
      "outputs": [
        {
          "output_type": "stream",
          "name": "stdout",
          "text": [
            "Epoch 1, Average Loss per Batch: 8.64738132212795\n",
            "Epoch 2, Average Loss per Batch: 7.839048518669808\n",
            "Epoch 3, Average Loss per Batch: 7.666474648754475\n",
            "Epoch 4, Average Loss per Batch: 7.57498645341329\n",
            "Epoch 5, Average Loss per Batch: 7.513791409353752\n",
            "Epoch 6, Average Loss per Batch: 7.4675025173163005\n",
            "Epoch 7, Average Loss per Batch: 7.429744796732725\n",
            "Epoch 8, Average Loss per Batch: 7.397245557732501\n",
            "Epoch 9, Average Loss per Batch: 7.368372903435917\n",
            "Epoch 10, Average Loss per Batch: 7.34189756465497\n",
            "Epoch 11, Average Loss per Batch: 7.317531581854416\n",
            "Epoch 12, Average Loss per Batch: 7.29453575607747\n"
          ]
        }
      ]
    },
    {
      "cell_type": "code",
      "source": [
        "# Model 2: CBOW5 with a context width of 5 (in both directions) for the Hotel Reviews dataset\n",
        "vocab_size_2, word_to_ix_2, pairs_2, _ = prepare_dataset_and_vocab_hotel('tripadvisor_hotel_reviews_reduced.csv', preprocess_text, 5)\n",
        "train_model(vocab_size_2, word_to_ix_2, pairs_2, 'model_2', device)"
      ],
      "metadata": {
        "colab": {
          "base_uri": "https://localhost:8080/"
        },
        "id": "o6qpDfpFWbz_",
        "outputId": "0b080192-3132-4e65-cb9b-b886bd5d74e5"
      },
      "execution_count": null,
      "outputs": [
        {
          "output_type": "stream",
          "name": "stdout",
          "text": [
            "Epoch 1, Average Loss per Batch: 8.569523979854289\n",
            "Epoch 2, Average Loss per Batch: 7.904581894052738\n",
            "Epoch 3, Average Loss per Batch: 7.7478905095551385\n",
            "Epoch 4, Average Loss per Batch: 7.662141035501583\n",
            "Epoch 5, Average Loss per Batch: 7.604164073121608\n",
            "Epoch 6, Average Loss per Batch: 7.560179713850058\n",
            "Epoch 7, Average Loss per Batch: 7.52452746294436\n",
            "Epoch 8, Average Loss per Batch: 7.493663848424601\n",
            "Epoch 9, Average Loss per Batch: 7.466604232535658\n",
            "Epoch 10, Average Loss per Batch: 7.4417784889626235\n",
            "Epoch 11, Average Loss per Batch: 7.418708803757753\n",
            "Epoch 12, Average Loss per Batch: 7.397085127108921\n"
          ]
        }
      ]
    },
    {
      "cell_type": "code",
      "source": [
        "# Model 3: CBOW2 with a context width of 2 (in both directions) for the Sci-Fi story dataset\n",
        "vocab_size_3, word_to_ix_3, pairs_3, all_tokens_scifi = prepare_dataset_and_vocab_scifi('scifi_reduced.txt', 2)\n",
        "train_model(vocab_size_3, word_to_ix_3, pairs_3, 'model_3', device)"
      ],
      "metadata": {
        "colab": {
          "base_uri": "https://localhost:8080/"
        },
        "id": "WUjIKr9QWd28",
        "outputId": "00210919-48a3-45ee-a711-90284db5f314"
      },
      "execution_count": null,
      "outputs": [
        {
          "output_type": "stream",
          "name": "stdout",
          "text": [
            "Epoch 1, Average Loss per Batch: 10.16968716600376\n",
            "Epoch 2, Average Loss per Batch: 9.25610216266019\n",
            "Epoch 3, Average Loss per Batch: 9.040848910725176\n"
          ]
        }
      ]
    },
    {
      "cell_type": "markdown",
      "source": [
        "Question: Are predictions made by the model sensitive towards the context size?"
      ],
      "metadata": {
        "id": "wqlfjQ7ooFzL"
      }
    },
    {
      "cell_type": "code",
      "source": [
        "# Load the trained models\n",
        "def load_model(model_path, vocab_size, embedding_dim, device):\n",
        "    model = CBOW(vocab_size, embedding_dim)\n",
        "    model.load_state_dict(torch.load(model_path))\n",
        "    model.to(device)\n",
        "    model.eval()  # Set the model to evaluation mode\n",
        "    return model\n",
        "\n",
        "# Load CBOW2 and CBOW5 models\n",
        "model_1 = load_model('model_1.pth', vocab_size_1, Config.EMBEDDING_DIM, device)\n",
        "model_2 = load_model('model_2.pth', vocab_size_2, Config.EMBEDDING_DIM, device)\n",
        "\n",
        "# Prediction function\n",
        "def predict(context, model, word_to_ix, device):\n",
        "    context_idxs = [word_to_ix.get(w) for w in context]  # Get indices for known words\n",
        "    context_idxs = [idx for idx in context_idxs if idx is not None]  # Filter out None values (unknown words)\n",
        "\n",
        "    if not context_idxs:  # Check if context is empty after filtering\n",
        "        return None  # or handle this case as you see fit\n",
        "\n",
        "    context_tensor = torch.tensor(context_idxs, dtype=torch.long).unsqueeze(0).to(device)\n",
        "    with torch.no_grad():\n",
        "        log_probs = model(context_tensor)\n",
        "    return log_probs.exp().argmax(1).item()\n",
        "\n",
        "# Creating reverse dictionary\n",
        "ix_to_word_1 = {ix: word for word, ix in word_to_ix_1.items()}\n",
        "ix_to_word_2 = {ix: word for word, ix in word_to_ix_2.items()}\n",
        "\n",
        "# Example usage\n",
        "context_words_CBOW2 = [['booked', 'hotel', 'advisor', 'pleasantly'], # trip\n",
        "                       ['break', 'barcelona', 'hotel', 'modern']] # universal\n",
        "context_words_CBOW5 = [['great', 'hotel', 'money', 'booked', 'hotel', 'advisor', 'pleasantly', 'surprised', 'room', 'roof'], # trip\n",
        "                       ['just', 'returned', 'excellent', 'break', 'barcelona', 'hotel', 'modern', 'decor', 'spotlessly', 'clean']] # universal\n",
        "for context_word in context_words_CBOW2:\n",
        "    predicted_index_1 = predict(context_word, model_1, word_to_ix_1, device)\n",
        "    predicted_word_1 = ix_to_word_1[predicted_index_1]\n",
        "    print(f\"CBOW2 Predicted word for {context_word}: {predicted_word_1}\")\n",
        "for context_word in context_words_CBOW5:\n",
        "    predicted_index_2 = predict(context_word, model_2, word_to_ix_2, device)\n",
        "    predicted_word_2 = ix_to_word_2[predicted_index_2]\n",
        "    print(f\"CBOW5 Predicted word for {context_word}: {predicted_word_2}\")\n"
      ],
      "metadata": {
        "colab": {
          "base_uri": "https://localhost:8080/"
        },
        "id": "JsOPt5tIoJc1",
        "outputId": "44d55a75-1ab0-489f-b5ad-8df643c8ee79"
      },
      "execution_count": null,
      "outputs": [
        {
          "output_type": "stream",
          "name": "stdout",
          "text": [
            "CBOW2 Predicted word for ['booked', 'hotel', 'advisor', 'pleasantly']: trip\n",
            "CBOW2 Predicted word for ['break', 'barcelona', 'hotel', 'modern']: hotel\n",
            "CBOW5 Predicted word for ['great', 'hotel', 'money', 'booked', 'hotel', 'advisor', 'pleasantly', 'surprised', 'room', 'roof']: hotel\n",
            "CBOW5 Predicted word for ['just', 'returned', 'excellent', 'break', 'barcelona', 'hotel', 'modern', 'decor', 'spotlessly', 'clean']: hotel\n"
          ]
        }
      ]
    },
    {
      "cell_type": "markdown",
      "source": [
        "**Part 2 - Test your embeddings**"
      ],
      "metadata": {
        "id": "s3QybyxKbkSm"
      }
    },
    {
      "cell_type": "code",
      "source": [
        "import nltk\n",
        "from collections import Counter\n",
        "import torch\n",
        "import torch.nn as nn\n",
        "\n",
        "nltk.download('averaged_perceptron_tagger')\n",
        "nltk.download('punkt')"
      ],
      "metadata": {
        "colab": {
          "base_uri": "https://localhost:8080/"
        },
        "id": "Kb-ktt5DjBxJ",
        "outputId": "15954eb4-91e5-46b1-f434-7927707c505e"
      },
      "execution_count": null,
      "outputs": [
        {
          "output_type": "stream",
          "name": "stderr",
          "text": [
            "[nltk_data] Downloading package averaged_perceptron_tagger to\n",
            "[nltk_data]     /root/nltk_data...\n",
            "[nltk_data]   Unzipping taggers/averaged_perceptron_tagger.zip.\n",
            "[nltk_data] Downloading package punkt to /root/nltk_data...\n",
            "[nltk_data]   Package punkt is already up-to-date!\n"
          ]
        },
        {
          "output_type": "execute_result",
          "data": {
            "text/plain": [
              "True"
            ]
          },
          "metadata": {},
          "execution_count": 19
        }
      ]
    },
    {
      "cell_type": "code",
      "source": [
        "def get_closest_word(word, vocab_size, word_to_ix, topn=5):\n",
        "    word_distance = []\n",
        "    index_to_word = {index: word for word, index in word_to_ix.items()}\n",
        "\n",
        "    model = CBOW(vocab_size, Config.EMBEDDING_DIM).to(device)\n",
        "    emb = model.embeddings\n",
        "    pdist = nn.PairwiseDistance()\n",
        "    i = word_to_ix[word]\n",
        "    lookup_tensor_i = torch.tensor([i], dtype=torch.long).to(device)\n",
        "    v_i = emb(lookup_tensor_i)\n",
        "\n",
        "    for j in range(vocab_size):\n",
        "        if j != i:\n",
        "            lookup_tensor_j = torch.tensor([j], dtype=torch.long).to(device)\n",
        "            v_j = emb(lookup_tensor_j)\n",
        "            word_distance.append((index_to_word[j], float(pdist(v_i, v_j))))\n",
        "\n",
        "    word_distance.sort(key=lambda x: x[1])\n",
        "    return word_distance[:topn]\n"
      ],
      "metadata": {
        "id": "0X2bNjbKcsV_"
      },
      "execution_count": null,
      "outputs": []
    },
    {
      "cell_type": "code",
      "source": [
        "# Find top and least frequent words for each category\n",
        "def find_top_least_frequent_words(tokens):\n",
        "    tokens_with_pos = nltk.pos_tag(tokens)\n",
        "\n",
        "    # Find nouns/verbs/adjectives\n",
        "    adjectives = [word for word, pos in tokens_with_pos if pos in ['JJ', 'JJR', 'JJS']]\n",
        "    nouns = [word for word, pos in tokens_with_pos if pos in ['NN']]\n",
        "    verbs = [word for word, pos in tokens_with_pos if pos in ['VBZ', 'VBP', 'VBN', 'VBG', 'VBD', 'VB']]\n",
        "\n",
        "    # Count occurrences\n",
        "    adjective_counts = Counter(adjectives)\n",
        "    noun_counts = Counter(nouns)\n",
        "    verb_counts = Counter(verbs)\n",
        "\n",
        "    # Extract top 3 and least frequent 10\n",
        "    most_least_frequent = {\n",
        "        \"Most frequent adjectives\": adjective_counts.most_common(3),\n",
        "        \"Least frequent adjectives\": adjective_counts.most_common()[:-11:-1],\n",
        "        \"Most frequent nouns\": noun_counts.most_common(3),\n",
        "        \"Least frequent nouns\": noun_counts.most_common()[:-11:-1],\n",
        "        \"Most frequent verbs\": verb_counts.most_common(3),\n",
        "        \"Least frequent verbs\": verb_counts.most_common()[:-11:-1]\n",
        "    }\n",
        "\n",
        "    return most_least_frequent\n",
        "\n",
        "# Analyze and print the results for both files\n",
        "print(\"Hotel Reviews Dataset:\")\n",
        "print(find_top_least_frequent_words(all_tokens_hotel))\n",
        "\n",
        "print(\"\\nSci-Fi Story Dataset:\")\n",
        "print(find_top_least_frequent_words(all_tokens_scifi))"
      ],
      "metadata": {
        "colab": {
          "base_uri": "https://localhost:8080/"
        },
        "id": "iTYXu-es4KWx",
        "outputId": "3efedd5a-1c46-4338-a2d4-30cd56f759db"
      },
      "execution_count": null,
      "outputs": [
        {
          "output_type": "stream",
          "name": "stdout",
          "text": [
            "Hotel Reviews Dataset:\n",
            "{'Most frequent adjectives': [('great', 10263), ('good', 8352), ('nice', 5683)], 'Least frequent adjectives': [('flying', 1), ('remedy', 1), ('hairl', 1), ('stainless', 1), ('windsor', 1), ('serivce', 1), ('unwrap', 1), ('flustered', 1), ('phantastic', 1), ('uncleared', 1)], 'Most frequent nouns': [('hotel', 22944), ('room', 16561), ('staff', 7963)], 'Least frequent nouns': [('yellow', 1), ('clump', 1), ('safar', 1), ('sme', 1), ('consolation', 1), ('dumonde', 1), ('canteen', 1), ('utilization', 1), ('netscape', 1), ('dinosaur', 1)], 'Most frequent verbs': [('stayed', 4288), ('got', 3012), ('went', 2253)], 'Least frequent verbs': [('clump', 1), ('villages', 1), ('prepaying', 1), ('susie', 1), ('mao', 1), ('rc', 1), ('segregated', 1), ('spas', 1), ('nonsmoking', 1), ('prompting', 1)]}\n",
            "\n",
            "Sci-Fi Story Dataset:\n",
            "{'Most frequent adjectives': [('little', 8066), ('good', 7341), ('new', 7289)], 'Least frequent adjectives': [('hearl', 1), ('prerevolutionary', 1), ('reconstructed', 1), ('groovyland', 1), ('leetle', 1), ('apparentlyhis', 1), ('sleepingbag', 1), ('ulcero', 1), ('sandty', 1), ('idan', 1)], 'Most frequent nouns': [('time', 15437), ('man', 15194), ('way', 10461)], 'Least frequent nouns': [('grislyland', 1), ('psycholand', 1), ('turnstile', 1), ('ente', 1), ('stadia', 1), ('zoos', 1), ('seeck', 1), ('spic', 1), ('pomona', 1), ('sneed', 1)], 'Most frequent verbs': [('said', 36498), ('know', 10722), ('get', 9330)], 'Least frequent verbs': [('bodyland', 1), ('groovyland', 1), ('replicas', 1), ('strappado', 1), ('roovyland', 1), ('aquariums', 1), ('visuallyoriented', 1), ('grafitti', 1), ('emia', 1), ('acticing', 1)]}\n"
          ]
        }
      ]
    },
    {
      "cell_type": "code",
      "source": [
        "# Define the words for each dataset\n",
        "test_words_hotel = ['great', 'good', 'phantastic', 'hotel', 'room', 'utilization', 'got', 'went', 'prepaying' ]\n",
        "test_words_scifi = ['little', 'new', 'prerevolutionary', 'time', 'man', 'zoos', 'said', 'know', 'acticing']\n",
        "\n",
        "# Print closest words for the hotel reviews dataset\n",
        "print(\"Closest words in the hotel reviews dataset:\")\n",
        "for word in test_words_hotel:\n",
        "    closest_words = get_closest_word(word, topn=5, vocab_size=vocab_size_1, word_to_ix=word_to_ix_1)\n",
        "    print(f\"'{word}': {closest_words}\")\n",
        "\n",
        "# Print closest words for the Sci-fi dataset\n",
        "print(\"\\nClosest words in the Sci-fi dataset:\")\n",
        "for word in test_words_scifi:\n",
        "    closest_words = get_closest_word(word, topn=5, vocab_size=vocab_size_3, word_to_ix=word_to_ix_3)\n",
        "    print(f\"'{word}': {closest_words}\")\n"
      ],
      "metadata": {
        "colab": {
          "base_uri": "https://localhost:8080/"
        },
        "id": "d53D-naRd-XD",
        "outputId": "e80729d1-5d81-4b39-e6d8-839fc1d5bd28"
      },
      "execution_count": null,
      "outputs": [
        {
          "output_type": "stream",
          "name": "stdout",
          "text": [
            "Closest words in the hotel reviews dataset:\n",
            "'great': [('condition', 6.2644853591918945), ('plummeted', 6.444531440734863), ('perfic', 6.513710975646973), ('disconcerted', 6.576338291168213), ('muscle', 6.623223304748535)]\n",
            "'good': [('eurorstars', 5.879917144775391), ('flames', 6.211822032928467), ('reat', 6.5279951095581055), ('barmaid', 6.540792942047119), ('callout', 6.583652496337891)]\n",
            "'phantastic': [('maddening', 6.302803039550781), ('tito', 6.546751499176025), ('modernist', 6.70634651184082), ('guava', 6.718997478485107), ('warmly', 6.726440906524658)]\n",
            "'hotel': [('corn', 6.549899578094482), ('smitten', 6.597479820251465), ('tropicana', 6.830557823181152), ('wisteria', 6.850427627563477), ('crepe', 6.864654541015625)]\n",
            "'room': [('murmured', 7.4121527671813965), ('champgane', 7.756467819213867), ('verandah', 7.849087715148926), ('champaine', 7.875658988952637), ('inspector', 7.998842239379883)]\n",
            "'utilization': [('foreground', 6.802746295928955), ('maniac', 6.8405375480651855), ('blister', 6.913492679595947), ('balthazar', 6.914302825927734), ('passenger', 6.998082637786865)]\n",
            "'got': [('regencia', 6.270203590393066), ('replaced', 6.403949737548828), ('universe', 6.549124240875244), ('pretence', 6.704100131988525), ('champayne', 6.705624103546143)]\n",
            "'went': [('intently', 7.573455810546875), ('resurfacing', 7.578940391540527), ('mouthfull', 7.702106952667236), ('counts', 7.724241733551025), ('locattion', 7.769571781158447)]\n",
            "'prepaying': [('varities', 6.497684001922607), ('patients', 6.5637335777282715), ('hurtful', 6.665148735046387), ('signal', 6.697150707244873), ('paeola', 6.774874687194824)]\n",
            "\n",
            "Closest words in the Sci-fi dataset:\n",
            "'little': [('splen', 5.6546735763549805), ('label', 6.115172386169434), ('drooped', 6.22695779800415), ('contit', 6.316946029663086), ('derprivileged', 6.355069160461426)]\n",
            "'new': [('trimble', 6.2570295333862305), ('irrefutably', 6.719127655029297), ('crumbl', 6.744708061218262), ('minton', 6.780203819274902), ('finale', 6.785788536071777)]\n",
            "'prerevolutionary': [('monta', 6.318837642669678), ('ptotii', 6.376647472381592), ('hotbed', 6.385252952575684), ('tangaroa', 6.459221363067627), ('appraisal', 6.4617486000061035)]\n",
            "'time': [('rushes', 5.678661823272705), ('buckled', 6.058045387268066), ('upcurving', 6.130871295928955), ('parasol', 6.131743907928467), ('gwann', 6.171928405761719)]\n",
            "'man': [('decide', 7.188232421875), ('marigolds', 7.213995456695557), ('placer', 7.238100528717041), ('lugdunum', 7.246814250946045), ('alike', 7.253819465637207)]\n",
            "'zoos': [('fingerwork', 6.394018173217773), ('thfs', 6.403886318206787), ('repkrting', 6.540966510772705), ('reappraisal', 6.5672736167907715), ('hhve', 6.610840797424316)]\n",
            "'said': [('sweatgrimed', 5.778078556060791), ('lull', 6.094503879547119), ('htl', 6.1824164390563965), ('hedgehogs', 6.185137748718262), ('sarcomas', 6.218936443328857)]\n",
            "'know': [('systeans', 6.556543350219727), ('ciqorry', 6.719025135040283), ('wul', 6.760024547576904), ('peashooters', 6.81314754486084), ('ioophilus', 6.860233783721924)]\n",
            "'acticing': [('theoretically', 6.408392429351807), ('fastw', 6.537082195281982), ('rill', 6.755856037139893), ('sidney', 6.75683069229126), ('ruhsoription', 6.871101379394531)]\n"
          ]
        }
      ]
    },
    {
      "cell_type": "markdown",
      "source": [
        "Choose 2 words and retrieve their 5 closest neighbours according to hotel review-based embeddings and the\n",
        "Sci-fi-based embeddings."
      ],
      "metadata": {
        "id": "uujKAw_RbqoB"
      }
    },
    {
      "cell_type": "code",
      "source": [
        "words_to_find = ['good', 'get']\n",
        "results = {}\n",
        "\n",
        "# Find neighbors for each word using both datasets\n",
        "for word in words_to_find:\n",
        "    neighbors_hotel = get_closest_word(word, topn=5, vocab_size=vocab_size_1, word_to_ix=word_to_ix_1)\n",
        "    neighbors_scifi = get_closest_word(word, topn=5, vocab_size=vocab_size_3, word_to_ix=word_to_ix_3)\n",
        "\n",
        "    results[word] = {\n",
        "        'hotel_review_based': neighbors_hotel,\n",
        "        'sci_fi_based': neighbors_scifi\n",
        "    }\n",
        "\n",
        "# Print the results\n",
        "for word, neighbors in results.items():\n",
        "    print(f\"Word: '{word}'\")\n",
        "    print(\"Hotel Review-Based Embeddings:\")\n",
        "    for neighbor, distance in neighbors['hotel_review_based']:\n",
        "        print(f\"{neighbor}: {distance:.4f}\")\n",
        "    print(\"\\nSci-Fi-Based Embeddings:\")\n",
        "    for neighbor, distance in neighbors['sci_fi_based']:\n",
        "        print(f\"{neighbor}: {distance:.4f}\")\n",
        "    print(\"\\n\")\n"
      ],
      "metadata": {
        "colab": {
          "base_uri": "https://localhost:8080/"
        },
        "id": "dqHknCewbuHn",
        "outputId": "22cac6bb-9b06-4f46-932e-44d9f324ab11"
      },
      "execution_count": null,
      "outputs": [
        {
          "output_type": "stream",
          "name": "stdout",
          "text": [
            "Word: 'good'\n",
            "Hotel Review-Based Embeddings:\n",
            "mirador: 6.1486\n",
            "streetnoise: 6.2175\n",
            "multitude: 6.3897\n",
            "sofo: 6.4843\n",
            "dinging: 6.4877\n",
            "\n",
            "Sci-Fi-Based Embeddings:\n",
            "ottawa: 6.7418\n",
            "basso: 6.7445\n",
            "zoos: 6.8327\n",
            "spile: 6.8351\n",
            "imposingly: 6.8814\n",
            "\n",
            "\n",
            "Word: 'get'\n",
            "Hotel Review-Based Embeddings:\n",
            "variaty: 6.3450\n",
            "velcro: 6.3659\n",
            "kinkos: 6.5226\n",
            "activated: 6.5887\n",
            "sketchiest: 6.6011\n",
            "\n",
            "Sci-Fi-Based Embeddings:\n",
            "sidle: 6.8170\n",
            "horriblefrenzy: 6.8345\n",
            "anmore: 6.8713\n",
            "mathsar: 6.9113\n",
            "dements: 6.9704\n",
            "\n",
            "\n"
          ]
        }
      ]
    }
  ]
}